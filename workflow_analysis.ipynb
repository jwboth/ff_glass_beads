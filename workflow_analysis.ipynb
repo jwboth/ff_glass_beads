{
 "cells": [
  {
   "cell_type": "markdown",
   "id": "226bff4c",
   "metadata": {},
   "source": [
    "# Cropping raw images"
   ]
  },
  {
   "cell_type": "code",
   "execution_count": null,
   "id": "b84f366d",
   "metadata": {},
   "outputs": [
    {
     "name": "stderr",
     "output_type": "stream",
     "text": [
      "python: can't open file 'c:\\\\Users\\\\jbo062\\\\src\\\\darsia-projects\\\\ff_glass_beads\\\\src\\\\crop_images.py': [Errno 2] No such file or directory\n"
     ]
    }
   ],
   "source": [
    "!python analysis/crop_images.py --show"
   ]
  }
 ],
 "metadata": {
  "kernelspec": {
   "display_name": "Python 3",
   "language": "python",
   "name": "python3"
  },
  "language_info": {
   "codemirror_mode": {
    "name": "ipython",
    "version": 3
   },
   "file_extension": ".py",
   "mimetype": "text/x-python",
   "name": "python",
   "nbconvert_exporter": "python",
   "pygments_lexer": "ipython3",
   "version": "3.12.10"
  }
 },
 "nbformat": 4,
 "nbformat_minor": 5
}
