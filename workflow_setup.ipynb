{
 "cells": [
  {
   "cell_type": "markdown",
   "id": "e1ac03fa",
   "metadata": {},
   "source": [
    "## Intro"
   ]
  },
  {
   "cell_type": "code",
   "execution_count": null,
   "id": "3ce652ba",
   "metadata": {},
   "outputs": [
    {
     "name": "stdout",
     "output_type": "stream",
     "text": [
      "Setting up depth map...\n",
      "Image stored under data\\depth_map.npz\n",
      "Figure(640x480)\n"
     ]
    }
   ],
   "source": [
    "!python setup/setup_depth.py --show"
   ]
  },
  {
   "cell_type": "markdown",
   "id": "79514fb8",
   "metadata": {},
   "source": [
    "# On labeling"
   ]
  },
  {
   "cell_type": "code",
   "execution_count": null,
   "id": "049e21e9",
   "metadata": {},
   "outputs": [
    {
     "name": "stdout",
     "output_type": "stream",
     "text": [
      "Warning: No exif metafile found. Please install ImageMagick to read metadata from terminal.\n",
      "Number of unlabeled pixels: 3005878\n",
      "Figure(640x480)\n",
      "Image stored under data\\labels.npz\n"
     ]
    },
    {
     "name": "stderr",
     "output_type": "stream",
     "text": [
      "C:\\Users\\jbo062\\src\\DarSIA\\src\\darsia\\utils\\segmentation.py:590: UserWarning: Map contains zero labels - zeros are also used to mark unlabeled regions.\n",
      "  warn(\n",
      "INFO:darsia.presets.workflows.setup_labeling:Num unique labels: 4\n"
     ]
    }
   ],
   "source": [
    "!python setup/setup_labels.py --show"
   ]
  },
  {
   "cell_type": "markdown",
   "id": "837b9c11",
   "metadata": {},
   "source": [
    "# Rig setup"
   ]
  },
  {
   "cell_type": "code",
   "execution_count": null,
   "id": "8d4e8e40",
   "metadata": {},
   "outputs": [
    {
     "name": "stdout",
     "output_type": "stream",
     "text": [
      "Image stored under E:\\fluidflower_glass_beads\\results\\fluidflower\\baseline.npz\n",
      "Resize object saved to E:\\fluidflower_glass_beads\\results\\fluidflower\\correction_1.npz.\n",
      "Drift correction saved to E:\\fluidflower_glass_beads\\results\\fluidflower\\correction_2.npz.\n",
      "Curvature correction saved to E:\\fluidflower_glass_beads\\results\\fluidflower\\correction_3.npz.\n",
      "Image stored under E:\\fluidflower_glass_beads\\results\\fluidflower\\depth.npz\n",
      "Image stored under E:\\fluidflower_glass_beads\\results\\fluidflower\\labels.npz\n",
      "Image stored under E:\\fluidflower_glass_beads\\results\\fluidflower\\porosity.npz\n",
      "Figure(640x480)\n"
     ]
    },
    {
     "name": "stderr",
     "output_type": "stream",
     "text": [
      "C:\\Users\\jbo062\\src\\DarSIA\\src\\darsia\\corrections\\color\\colorcheckerfinder.py:200: UserWarning: 0 colorcheckers detected.\n",
      "  warn(f\"{len(colorcheckers)} colorcheckers detected.\")\n",
      "C:\\Users\\jbo062\\src\\DarSIA\\src\\darsia\\presets\\workflows\\rig.py:113: UserWarning: Color checker not found. Drift correction not setup. Error: No color checker found.\n",
      "  warn(\n",
      "C:\\Users\\jbo062\\src\\DarSIA\\src\\darsia\\corrections\\shape\\curvature.py:166: UserWarning: No image provided. Please provide an image or a config file.\n",
      "  warn(\"No image provided. Please provide an image or a config file.\")\n",
      "INFO:darsia.presets.workflows.rig:Corrections setup complete.\n",
      "INFO:darsia.presets.workflows.rig:Reading setup completed.\n",
      "INFO:root:Depth map setup completed.\n",
      "INFO:root:Geometry setup completed.\n",
      "INFO:darsia.presets.workflows.rig:Labels setup completed.\n",
      "INFO:darsia.presets.workflows.rig:Porosity setup completed.\n",
      "INFO:darsia.presets.workflows.rig:Porosity setup completed.\n",
      "INFO:darsia.presets.workflows.rig:Museum rig setup completed.\n",
      "INFO:darsia.restoration.averaging:Number of zero indices in pore volume identification: 0\n",
      "INFO:darsia.presets.workflows.rig:Upscaling setup completed.\n",
      "INFO:darsia.presets.workflows.rig:Concentration analysis setup completed.\n",
      "INFO:darsia.presets.workflows.rig:Rig object saved to E:\\fluidflower_glass_beads\\results\\fluidflower.\n",
      "INFO:darsia.presets.workflows.setup_rig:Fluidflower setup in 80.95 s.\n"
     ]
    }
   ],
   "source": [
    "!python setup/setup_rig.py --show"
   ]
  },
  {
   "cell_type": "markdown",
   "id": "93bcba1c",
   "metadata": {},
   "source": [
    "# Color analysis"
   ]
  },
  {
   "cell_type": "code",
   "execution_count": null,
   "id": "b7c2d69c",
   "metadata": {},
   "outputs": [],
   "source": [
    "!python setup/setup_color_paths.py --show"
   ]
  }
 ],
 "metadata": {
  "kernelspec": {
   "display_name": "Python 3",
   "language": "python",
   "name": "python3"
  },
  "language_info": {
   "codemirror_mode": {
    "name": "ipython",
    "version": 3
   },
   "file_extension": ".py",
   "mimetype": "text/x-python",
   "name": "python",
   "nbconvert_exporter": "python",
   "pygments_lexer": "ipython3",
   "version": "3.12.10"
  }
 },
 "nbformat": 4,
 "nbformat_minor": 5
}
