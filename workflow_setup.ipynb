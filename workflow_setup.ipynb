{
 "cells": [
  {
   "cell_type": "markdown",
   "id": "e1ac03fa",
   "metadata": {},
   "source": [
    "## Setup workflow\n",
    "Before performing a DarSIA analysis, one needs to run several setup steps. The main input consists of metainformation on the actual experiment and data acquisition:\n",
    "- Map between image identifier (name) and datetime\n",
    "- Manual segmentation of the facies of the geometry\n",
    "- Injection protocol\n",
    "- Depth map\n",
    "- Experimental conditions (pressure, temperature, ...) over time\n",
    "\n",
    "This tutorial describes the required formats and explains how to run the setup."
   ]
  },
  {
   "cell_type": "markdown",
   "id": "5dfa2ae7",
   "metadata": {},
   "source": [
    "## Quick introduction to the terminal and how to interact with DarSIA\n",
    "All the routines are fully defined as part of DarSIA. These scripts just envoke predefined workflows. The main user-input consists of prescribing the right metadata incl. paths, protocols etc. \n",
    "\n",
    "To run any scripts, the recommended way is to use the terminal. This notebook displays the commands that need to be run inside the terminal, and these could also be run from here. Yet, notebooks do not provide simple ways of displaying visual outputs. Thus, for later interactive calibration steps it is required to use the terminal. This setup could also be run purely here in the notebook.\n",
    "\n",
    "The commands for the different setup steps have a similar setup. One needs to run the same python script for any of the setup steps. The particula setup routine is invokved by additional flags. E.g., when later segmenting the geometry, we run the `setup.py` script and forward the `--segmentation` flag:"
   ]
  },
  {
   "cell_type": "code",
   "execution_count": null,
   "id": "3ab5b957",
   "metadata": {},
   "outputs": [],
   "source": [
    "!python scripts/setup.py --segmemtation"
   ]
  },
  {
   "cell_type": "markdown",
   "id": "34178216",
   "metadata": {},
   "source": [
    "The main user-input is given by the `config.toml` file (needs to exist). If you want to use your own config, prescribe additional flags: "
   ]
  },
  {
   "cell_type": "code",
   "execution_count": null,
   "id": "8015d7b1",
   "metadata": {},
   "outputs": [],
   "source": [
    "!python scripts/setup.py --segmentation --config example_config.toml"
   ]
  },
  {
   "cell_type": "markdown",
   "id": "edaaa137",
   "metadata": {},
   "source": [
    "Notebooks do not natively display plots. But when running the commands in the terminal (copy paste the commands without the excalamtion mark), the intermediate results can be displayed by providing the `--show` flag."
   ]
  },
  {
   "cell_type": "code",
   "execution_count": null,
   "id": "f03e4ed0",
   "metadata": {},
   "outputs": [],
   "source": [
    "!python scripts/setup.py --segmentation --show"
   ]
  },
  {
   "cell_type": "markdown",
   "id": "a11a1c73",
   "metadata": {},
   "source": [
    "Finally, to list all setup options, add the `--help` flag."
   ]
  },
  {
   "cell_type": "code",
   "execution_count": 1,
   "id": "c5a14b3a",
   "metadata": {},
   "outputs": [
    {
     "name": "stdout",
     "output_type": "stream",
     "text": [
      "usage: setup.py [-h] [--config CONFIG] [--all] [--depth] [--segmentation]\n",
      "                [--rig] [--show] [--info]\n",
      "\n",
      "Setup run.\n",
      "\n",
      "options:\n",
      "  -h, --help       show this help message and exit\n",
      "  --config CONFIG  Path to config file.\n",
      "  --all            Activate all setup steps.\n",
      "  --depth          Activate setup of depth.\n",
      "  --segmentation   Activate labeling.\n",
      "  --rig            Activate setup of rig.\n",
      "  --show           Show intermediate results.\n",
      "  --info           Provide help for activated flags.\n"
     ]
    }
   ],
   "source": [
    "!python scripts/setup.py --help"
   ]
  },
  {
   "cell_type": "markdown",
   "id": "1c4de48b",
   "metadata": {},
   "source": [
    "For most of the options, DarSIA provides some info, how to modify the config file, and what to add for the different setups. For this, add the `--info` flag. E.g.:"
   ]
  },
  {
   "cell_type": "code",
   "execution_count": 2,
   "id": "4ec118e8",
   "metadata": {},
   "outputs": [
    {
     "name": "stderr",
     "output_type": "stream",
     "text": [
      "Traceback (most recent call last):\n",
      "  File \"c:\\Users\\jbo062\\src\\darsia-projects\\ff_glass_beads\\scripts\\setup.py\", line 44, in <module>\n",
      "    segment_colored_image(args.config, args.show)\n",
      "  File \"C:\\Users\\jbo062\\src\\DarSIA\\src\\darsia\\presets\\workflows\\setup\\setup_labeling.py\", line 17, in segment_colored_image\n",
      "    config = FluidFlowerConfig(Path(config_path))\n",
      "             ^^^^^^^^^^^^^^^^^^^^^^^^^^^^^^^^^^^^\n",
      "  File \"C:\\Users\\jbo062\\src\\DarSIA\\src\\darsia\\presets\\workflows\\fluidflower_config.py\", line 445, in __init__\n",
      "    self.specs.load(path, \"specs\")\n",
      "  File \"C:\\Users\\jbo062\\src\\DarSIA\\src\\darsia\\presets\\workflows\\fluidflower_config.py\", line 57, in load\n",
      "    data = tomllib.loads(path.read_text())\n",
      "                         ^^^^^^^^^^^^^^^^\n",
      "  File \"C:\\Program Files\\WindowsApps\\PythonSoftwareFoundation.Python.3.12_3.12.2800.0_x64__qbz5n2kfra8p0\\Lib\\pathlib.py\", line 1027, in read_text\n",
      "    with self.open(mode='r', encoding=encoding, errors=errors) as f:\n",
      "         ^^^^^^^^^^^^^^^^^^^^^^^^^^^^^^^^^^^^^^^^^^^^^^^^^^^^^\n",
      "  File \"C:\\Program Files\\WindowsApps\\PythonSoftwareFoundation.Python.3.12_3.12.2800.0_x64__qbz5n2kfra8p0\\Lib\\pathlib.py\", line 1013, in open\n",
      "    return io.open(self, mode, buffering, encoding, errors, newline)\n",
      "           ^^^^^^^^^^^^^^^^^^^^^^^^^^^^^^^^^^^^^^^^^^^^^^^^^^^^^^^^^\n",
      "FileNotFoundError: [Errno 2] No such file or directory: 'config.toml'\n"
     ]
    }
   ],
   "source": [
    "!python scripts/setup.py --segmentation --info"
   ]
  },
  {
   "cell_type": "markdown",
   "id": "d322e97c",
   "metadata": {},
   "source": [
    "## Quick setup\n",
    "Assuming all information is provided, the config file `config.toml` is fully setup, the entire setup can be quickly invoked by simply running:"
   ]
  },
  {
   "cell_type": "code",
   "execution_count": null,
   "id": "2c5d4b7c",
   "metadata": {},
   "outputs": [],
   "source": [
    "!python scripts/setup.py --all"
   ]
  },
  {
   "cell_type": "markdown",
   "id": "241ad28e",
   "metadata": {},
   "source": [
    "## Setup step 0: The config.toml file\n",
    "The analysis requests a `config.toml` file. A template is provided `example_config.toml`. In the following steps, we address how to modify the details. Yet, if you do not have a `config.toml` file, start with copy-pasting the example file. Again, such operations can be easily done in the terminal using the `cp` command.\n"
   ]
  },
  {
   "cell_type": "code",
   "execution_count": null,
   "id": "83bc2a56",
   "metadata": {},
   "outputs": [],
   "source": [
    "!cp example_config.toml config.toml"
   ]
  },
  {
   "cell_type": "markdown",
   "id": "2bf14cbd",
   "metadata": {},
   "source": [
    "But feel free to use the explorer as well. In VS Code, you can open the explorer quickly by writing in the terminal:"
   ]
  },
  {
   "cell_type": "code",
   "execution_count": 3,
   "id": "a32ec653",
   "metadata": {},
   "outputs": [],
   "source": [
    "!explorer ."
   ]
  },
  {
   "cell_type": "markdown",
   "id": "f7f1913b",
   "metadata": {},
   "source": [
    "## Setup step 1: Data management\n",
    "Open the `config.toml` file and provide information on where to find the images to be analyzed. Do this by adding a "
   ]
  },
  {
   "cell_type": "markdown",
   "id": "be690aa6",
   "metadata": {},
   "source": [
    "## Setup step 2: Depth map\n"
   ]
  },
  {
   "cell_type": "code",
   "execution_count": null,
   "id": "ad917510",
   "metadata": {},
   "outputs": [],
   "source": [
    "!python scripts/setup.py --depth --config example_config.toml --show"
   ]
  },
  {
   "cell_type": "markdown",
   "id": "72232c7b",
   "metadata": {},
   "source": [
    "## Setup step 3: Geometric segmentation and labeling\n"
   ]
  },
  {
   "cell_type": "code",
   "execution_count": null,
   "id": "62dd4752",
   "metadata": {},
   "outputs": [],
   "source": [
    "!python scripts/setup.py --segmentation --config example_config.toml --show"
   ]
  },
  {
   "cell_type": "markdown",
   "id": "1099f32c",
   "metadata": {},
   "source": [
    "## Setup step 4: Rig object\n",
    "DarSIA ..."
   ]
  },
  {
   "cell_type": "code",
   "execution_count": null,
   "id": "3ce652ba",
   "metadata": {},
   "outputs": [
    {
     "name": "stdout",
     "output_type": "stream",
     "text": [
      "Setting up depth map...\n",
      "Image stored under data\\depth_map.npz\n",
      "Figure(640x480)\n"
     ]
    }
   ],
   "source": [
    "!python scripts/setup.py --rig --config example_config.toml --show"
   ]
  }
 ],
 "metadata": {
  "kernelspec": {
   "display_name": "Python 3",
   "language": "python",
   "name": "python3"
  },
  "language_info": {
   "codemirror_mode": {
    "name": "ipython",
    "version": 3
   },
   "file_extension": ".py",
   "mimetype": "text/x-python",
   "name": "python",
   "nbconvert_exporter": "python",
   "pygments_lexer": "ipython3",
   "version": "3.12.10"
  }
 },
 "nbformat": 4,
 "nbformat_minor": 5
}
