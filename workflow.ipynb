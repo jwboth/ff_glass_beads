{
 "cells": [
  {
   "cell_type": "markdown",
   "id": "e1ac03fa",
   "metadata": {},
   "source": [
    "## Intro"
   ]
  },
  {
   "cell_type": "code",
   "execution_count": 1,
   "id": "3ce652ba",
   "metadata": {},
   "outputs": [
    {
     "name": "stdout",
     "output_type": "stream",
     "text": [
      "Setting up depth map...\n",
      "Image stored under data\\depth_map.npz\n",
      "Figure(640x480)\n"
     ]
    }
   ],
   "source": [
    "!python src/setup_depth.py --show"
   ]
  },
  {
   "cell_type": "markdown",
   "id": "79514fb8",
   "metadata": {},
   "source": [
    "# On labeling"
   ]
  },
  {
   "cell_type": "code",
   "execution_count": 2,
   "id": "049e21e9",
   "metadata": {},
   "outputs": [
    {
     "name": "stdout",
     "output_type": "stream",
     "text": [
      "Warning: No exif metafile found. Please install ImageMagick to read metadata from terminal.\n",
      "Number of unlabeled pixels: 3005878\n",
      "Figure(640x480)\n",
      "Image stored under data\\labels.npz\n"
     ]
    },
    {
     "name": "stderr",
     "output_type": "stream",
     "text": [
      "C:\\Users\\jbo062\\src\\DarSIA\\src\\darsia\\utils\\segmentation.py:590: UserWarning: Map contains zero labels - zeros are also used to mark unlabeled regions.\n",
      "  warn(\n",
      "INFO:darsia.presets.workflows.setup_labeling:Num unique labels: 4\n"
     ]
    }
   ],
   "source": [
    "!python src/setup_labels.py --show"
   ]
  },
  {
   "cell_type": "markdown",
   "id": "837b9c11",
   "metadata": {},
   "source": [
    "# Rig setup"
   ]
  },
  {
   "cell_type": "code",
   "execution_count": null,
   "id": "8d4e8e40",
   "metadata": {},
   "outputs": [],
   "source": [
    "!python src/setup_rig.py --show"
   ]
  }
 ],
 "metadata": {
  "kernelspec": {
   "display_name": "Python 3",
   "language": "python",
   "name": "python3"
  },
  "language_info": {
   "codemirror_mode": {
    "name": "ipython",
    "version": 3
   },
   "file_extension": ".py",
   "mimetype": "text/x-python",
   "name": "python",
   "nbconvert_exporter": "python",
   "pygments_lexer": "ipython3",
   "version": "3.12.10"
  }
 },
 "nbformat": 4,
 "nbformat_minor": 5
}
