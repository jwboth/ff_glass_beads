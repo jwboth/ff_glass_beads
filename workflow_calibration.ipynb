{
 "cells": [
  {
   "cell_type": "code",
   "execution_count": null,
   "id": "cf488d56",
   "metadata": {},
   "outputs": [],
   "source": [
    "!python scripts/calibration.py --color-paths --show"
   ]
  },
  {
   "cell_type": "code",
   "execution_count": null,
   "id": "1aee5812",
   "metadata": {},
   "outputs": [],
   "source": [
    "!python scripts/calibration.py --color-signal --show"
   ]
  },
  {
   "cell_type": "code",
   "execution_count": null,
   "id": "6306c189",
   "metadata": {},
   "outputs": [],
   "source": [
    "!python scripts/calibration.py --mass --show"
   ]
  }
 ],
 "metadata": {
  "language_info": {
   "name": "python"
  }
 },
 "nbformat": 4,
 "nbformat_minor": 5
}
