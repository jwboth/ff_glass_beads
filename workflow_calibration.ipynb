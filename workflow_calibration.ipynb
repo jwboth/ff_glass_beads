{
 "cells": [
  {
   "cell_type": "code",
   "execution_count": null,
   "id": "cf488d56",
   "metadata": {},
   "outputs": [],
   "source": [
    "!python calibration/calirbation_color_signal.py --config config.toml --show"
   ]
  },
  {
   "cell_type": "code",
   "execution_count": null,
   "id": "1aee5812",
   "metadata": {},
   "outputs": [],
   "source": [
    "!python calibration/calibration_mass_analsysi.py --config config.toml --show"
   ]
  }
 ],
 "metadata": {
  "language_info": {
   "name": "python"
  }
 },
 "nbformat": 4,
 "nbformat_minor": 5
}
